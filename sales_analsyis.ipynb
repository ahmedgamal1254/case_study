{
 "cells": [
  {
   "cell_type": "code",
   "execution_count": 1,
   "id": "7029b543",
   "metadata": {},
   "outputs": [],
   "source": [
    "import pandas as pd\n",
    "import numpy as np\n",
    "import matplotlib.pyplot as plt\n",
    "import seaborn as sns\n",
    "%matplotlib inline"
   ]
  },
  {
   "cell_type": "markdown",
   "id": "54a431b8",
   "metadata": {},
   "source": [
    "### load dataset"
   ]
  },
  {
   "cell_type": "code",
   "execution_count": 2,
   "id": "6cf112e6",
   "metadata": {},
   "outputs": [
    {
     "data": {
      "text/html": [
       "<div>\n",
       "<style scoped>\n",
       "    .dataframe tbody tr th:only-of-type {\n",
       "        vertical-align: middle;\n",
       "    }\n",
       "\n",
       "    .dataframe tbody tr th {\n",
       "        vertical-align: top;\n",
       "    }\n",
       "\n",
       "    .dataframe thead th {\n",
       "        text-align: right;\n",
       "    }\n",
       "</style>\n",
       "<table border=\"1\" class=\"dataframe\">\n",
       "  <thead>\n",
       "    <tr style=\"text-align: right;\">\n",
       "      <th></th>\n",
       "      <th>Degree Level</th>\n",
       "      <th>Nationality</th>\n",
       "      <th>Gender</th>\n",
       "      <th>Year Quarter</th>\n",
       "      <th>Salary</th>\n",
       "      <th>Currency</th>\n",
       "    </tr>\n",
       "  </thead>\n",
       "  <tbody>\n",
       "    <tr>\n",
       "      <th>0</th>\n",
       "      <td>Primary</td>\n",
       "      <td>NonSaudi</td>\n",
       "      <td>Female</td>\n",
       "      <td>2017 Q1</td>\n",
       "      <td>1590</td>\n",
       "      <td>SAR</td>\n",
       "    </tr>\n",
       "    <tr>\n",
       "      <th>1</th>\n",
       "      <td>Primary</td>\n",
       "      <td>NonSaudi</td>\n",
       "      <td>Male</td>\n",
       "      <td>2017 Q1</td>\n",
       "      <td>2173</td>\n",
       "      <td>SAR</td>\n",
       "    </tr>\n",
       "    <tr>\n",
       "      <th>2</th>\n",
       "      <td>Primary</td>\n",
       "      <td>Saudi</td>\n",
       "      <td>Female</td>\n",
       "      <td>2017 Q1</td>\n",
       "      <td>4172</td>\n",
       "      <td>SAR</td>\n",
       "    </tr>\n",
       "    <tr>\n",
       "      <th>3</th>\n",
       "      <td>Primary</td>\n",
       "      <td>Saudi</td>\n",
       "      <td>Male</td>\n",
       "      <td>2017 Q1</td>\n",
       "      <td>6172</td>\n",
       "      <td>SAR</td>\n",
       "    </tr>\n",
       "    <tr>\n",
       "      <th>4</th>\n",
       "      <td>Primary</td>\n",
       "      <td>NonSaudi</td>\n",
       "      <td>Female</td>\n",
       "      <td>2017 Q2</td>\n",
       "      <td>1597</td>\n",
       "      <td>SAR</td>\n",
       "    </tr>\n",
       "  </tbody>\n",
       "</table>\n",
       "</div>"
      ],
      "text/plain": [
       "  Degree Level Nationality  Gender Year Quarter  Salary Currency\n",
       "0      Primary    NonSaudi  Female      2017 Q1    1590      SAR\n",
       "1      Primary    NonSaudi    Male      2017 Q1    2173      SAR\n",
       "2      Primary       Saudi  Female      2017 Q1    4172      SAR\n",
       "3      Primary       Saudi    Male      2017 Q1    6172      SAR\n",
       "4      Primary    NonSaudi  Female      2017 Q2    1597      SAR"
      ]
     },
     "execution_count": 2,
     "metadata": {},
     "output_type": "execute_result"
    }
   ],
   "source": [
    "df = pd.read_csv(\"Salary by Education.csv\")\n",
    "df.head()"
   ]
  },
  {
   "cell_type": "markdown",
   "id": "29b0b1c7",
   "metadata": {},
   "source": [
    "### explore data"
   ]
  },
  {
   "cell_type": "code",
   "execution_count": 3,
   "id": "dab059dc",
   "metadata": {},
   "outputs": [
    {
     "data": {
      "text/plain": [
       "(504, 6)"
      ]
     },
     "execution_count": 3,
     "metadata": {},
     "output_type": "execute_result"
    }
   ],
   "source": [
    "df.shape"
   ]
  },
  {
   "cell_type": "code",
   "execution_count": 4,
   "id": "7c2feae8",
   "metadata": {},
   "outputs": [
    {
     "name": "stdout",
     "output_type": "stream",
     "text": [
      "<class 'pandas.core.frame.DataFrame'>\n",
      "RangeIndex: 504 entries, 0 to 503\n",
      "Data columns (total 6 columns):\n",
      " #   Column        Non-Null Count  Dtype \n",
      "---  ------        --------------  ----- \n",
      " 0   Degree Level  504 non-null    object\n",
      " 1   Nationality   504 non-null    object\n",
      " 2   Gender        504 non-null    object\n",
      " 3   Year Quarter  504 non-null    object\n",
      " 4   Salary        504 non-null    int64 \n",
      " 5   Currency      504 non-null    object\n",
      "dtypes: int64(1), object(5)\n",
      "memory usage: 23.8+ KB\n"
     ]
    }
   ],
   "source": [
    "df.info()"
   ]
  },
  {
   "cell_type": "code",
   "execution_count": 5,
   "id": "d363d91d",
   "metadata": {},
   "outputs": [
    {
     "data": {
      "text/html": [
       "<div>\n",
       "<style scoped>\n",
       "    .dataframe tbody tr th:only-of-type {\n",
       "        vertical-align: middle;\n",
       "    }\n",
       "\n",
       "    .dataframe tbody tr th {\n",
       "        vertical-align: top;\n",
       "    }\n",
       "\n",
       "    .dataframe thead th {\n",
       "        text-align: right;\n",
       "    }\n",
       "</style>\n",
       "<table border=\"1\" class=\"dataframe\">\n",
       "  <thead>\n",
       "    <tr style=\"text-align: right;\">\n",
       "      <th></th>\n",
       "      <th>count</th>\n",
       "      <th>mean</th>\n",
       "      <th>std</th>\n",
       "      <th>min</th>\n",
       "      <th>25%</th>\n",
       "      <th>50%</th>\n",
       "      <th>75%</th>\n",
       "      <th>max</th>\n",
       "    </tr>\n",
       "  </thead>\n",
       "  <tbody>\n",
       "    <tr>\n",
       "      <th>Salary</th>\n",
       "      <td>504.0</td>\n",
       "      <td>8950.031746</td>\n",
       "      <td>6372.635277</td>\n",
       "      <td>1331.0</td>\n",
       "      <td>4194.0</td>\n",
       "      <td>7890.5</td>\n",
       "      <td>12448.75</td>\n",
       "      <td>35622.0</td>\n",
       "    </tr>\n",
       "  </tbody>\n",
       "</table>\n",
       "</div>"
      ],
      "text/plain": [
       "        count         mean          std     min     25%     50%       75%  \\\n",
       "Salary  504.0  8950.031746  6372.635277  1331.0  4194.0  7890.5  12448.75   \n",
       "\n",
       "            max  \n",
       "Salary  35622.0  "
      ]
     },
     "execution_count": 5,
     "metadata": {},
     "output_type": "execute_result"
    }
   ],
   "source": [
    "df.describe().transpose()"
   ]
  },
  {
   "cell_type": "code",
   "execution_count": 6,
   "id": "49324bcf",
   "metadata": {},
   "outputs": [
    {
     "data": {
      "text/plain": [
       "Female    252\n",
       "Male      252\n",
       "Name: Gender, dtype: int64"
      ]
     },
     "execution_count": 6,
     "metadata": {},
     "output_type": "execute_result"
    }
   ],
   "source": [
    "df['Gender'].value_counts()"
   ]
  },
  {
   "cell_type": "code",
   "execution_count": 7,
   "id": "5e02420b",
   "metadata": {},
   "outputs": [
    {
     "data": {
      "text/plain": [
       "Primary          72\n",
       "Secondary        72\n",
       "Intermediate     72\n",
       "Bachelor         72\n",
       "Diploma          72\n",
       "Doctorate        72\n",
       "Master Degree    72\n",
       "Name: Degree Level, dtype: int64"
      ]
     },
     "execution_count": 7,
     "metadata": {},
     "output_type": "execute_result"
    }
   ],
   "source": [
    "df['Degree Level'].value_counts()"
   ]
  },
  {
   "cell_type": "code",
   "execution_count": 8,
   "id": "1f4775b0",
   "metadata": {},
   "outputs": [
    {
     "data": {
      "text/plain": [
       "NonSaudi    252\n",
       "Saudi       252\n",
       "Name: Nationality, dtype: int64"
      ]
     },
     "execution_count": 8,
     "metadata": {},
     "output_type": "execute_result"
    }
   ],
   "source": [
    "df['Nationality'].value_counts()"
   ]
  },
  {
   "cell_type": "code",
   "execution_count": 9,
   "id": "c3664fec",
   "metadata": {},
   "outputs": [
    {
     "data": {
      "text/plain": [
       "2017 Q1    28\n",
       "2017 Q2    28\n",
       "2021 Q1    28\n",
       "2020 Q4    28\n",
       "2020 Q3    28\n",
       "2020 Q2    28\n",
       "2020 Q1    28\n",
       "2019 Q4    28\n",
       "2019 Q3    28\n",
       "2019 Q2    28\n",
       "2019 Q1    28\n",
       "2018 Q4    28\n",
       "2018 Q3    28\n",
       "2018 Q2    28\n",
       "2018 Q1    28\n",
       "2017 Q4    28\n",
       "2017 Q3    28\n",
       "2021 Q2    28\n",
       "Name: Year Quarter, dtype: int64"
      ]
     },
     "execution_count": 9,
     "metadata": {},
     "output_type": "execute_result"
    }
   ],
   "source": [
    "df['Year Quarter'].value_counts()"
   ]
  },
  {
   "cell_type": "code",
   "execution_count": 10,
   "id": "a49537f9",
   "metadata": {},
   "outputs": [
    {
     "data": {
      "text/plain": [
       "SAR    504\n",
       "Name: Currency, dtype: int64"
      ]
     },
     "execution_count": 10,
     "metadata": {},
     "output_type": "execute_result"
    }
   ],
   "source": [
    "df['Currency'].value_counts()"
   ]
  },
  {
   "cell_type": "markdown",
   "id": "bbc53aec",
   "metadata": {},
   "source": [
    "## clean data"
   ]
  },
  {
   "cell_type": "markdown",
   "id": "5d41bef9",
   "metadata": {},
   "source": [
    "### check missing value"
   ]
  },
  {
   "cell_type": "code",
   "execution_count": 11,
   "id": "4a6860c7",
   "metadata": {},
   "outputs": [
    {
     "data": {
      "text/plain": [
       "Degree Level    0\n",
       "Nationality     0\n",
       "Gender          0\n",
       "Year Quarter    0\n",
       "Salary          0\n",
       "Currency        0\n",
       "dtype: int64"
      ]
     },
     "execution_count": 11,
     "metadata": {},
     "output_type": "execute_result"
    }
   ],
   "source": [
    "df.isnull().sum()"
   ]
  },
  {
   "cell_type": "markdown",
   "id": "91b5decd",
   "metadata": {},
   "source": [
    "no found missing value"
   ]
  },
  {
   "cell_type": "markdown",
   "id": "2e878b19",
   "metadata": {},
   "source": [
    "### check duplicate values"
   ]
  },
  {
   "cell_type": "code",
   "execution_count": 12,
   "id": "aca66f78",
   "metadata": {},
   "outputs": [
    {
     "data": {
      "text/plain": [
       "0"
      ]
     },
     "execution_count": 12,
     "metadata": {},
     "output_type": "execute_result"
    }
   ],
   "source": [
    "df.duplicated().sum()"
   ]
  },
  {
   "cell_type": "markdown",
   "id": "c6acdb73",
   "metadata": {},
   "source": [
    "no found duplicated value"
   ]
  },
  {
   "cell_type": "markdown",
   "id": "5145b9f3",
   "metadata": {},
   "source": [
    "## start analsyis"
   ]
  },
  {
   "cell_type": "markdown",
   "id": "b54c05f3",
   "metadata": {},
   "source": [
    "### Highest Salary"
   ]
  },
  {
   "cell_type": "code",
   "execution_count": 13,
   "id": "12c6006f",
   "metadata": {},
   "outputs": [
    {
     "data": {
      "text/html": [
       "<div>\n",
       "<style scoped>\n",
       "    .dataframe tbody tr th:only-of-type {\n",
       "        vertical-align: middle;\n",
       "    }\n",
       "\n",
       "    .dataframe tbody tr th {\n",
       "        vertical-align: top;\n",
       "    }\n",
       "\n",
       "    .dataframe thead th {\n",
       "        text-align: right;\n",
       "    }\n",
       "</style>\n",
       "<table border=\"1\" class=\"dataframe\">\n",
       "  <thead>\n",
       "    <tr style=\"text-align: right;\">\n",
       "      <th></th>\n",
       "      <th>Degree Level</th>\n",
       "      <th>Nationality</th>\n",
       "      <th>Gender</th>\n",
       "      <th>Year Quarter</th>\n",
       "      <th>Salary</th>\n",
       "      <th>Currency</th>\n",
       "    </tr>\n",
       "  </thead>\n",
       "  <tbody>\n",
       "    <tr>\n",
       "      <th>427</th>\n",
       "      <td>Doctorate</td>\n",
       "      <td>Saudi</td>\n",
       "      <td>Male</td>\n",
       "      <td>2021 Q1</td>\n",
       "      <td>35622</td>\n",
       "      <td>SAR</td>\n",
       "    </tr>\n",
       "  </tbody>\n",
       "</table>\n",
       "</div>"
      ],
      "text/plain": [
       "    Degree Level Nationality Gender Year Quarter  Salary Currency\n",
       "427    Doctorate       Saudi   Male      2021 Q1   35622      SAR"
      ]
     },
     "execution_count": 13,
     "metadata": {},
     "output_type": "execute_result"
    }
   ],
   "source": [
    "df[df['Salary'] == df['Salary'].max()]"
   ]
  },
  {
   "cell_type": "markdown",
   "id": "82503f67",
   "metadata": {},
   "source": [
    "### Lowest Salary"
   ]
  },
  {
   "cell_type": "code",
   "execution_count": 14,
   "id": "61b5abb0",
   "metadata": {},
   "outputs": [
    {
     "data": {
      "text/html": [
       "<div>\n",
       "<style scoped>\n",
       "    .dataframe tbody tr th:only-of-type {\n",
       "        vertical-align: middle;\n",
       "    }\n",
       "\n",
       "    .dataframe tbody tr th {\n",
       "        vertical-align: top;\n",
       "    }\n",
       "\n",
       "    .dataframe thead th {\n",
       "        text-align: right;\n",
       "    }\n",
       "</style>\n",
       "<table border=\"1\" class=\"dataframe\">\n",
       "  <thead>\n",
       "    <tr style=\"text-align: right;\">\n",
       "      <th></th>\n",
       "      <th>Degree Level</th>\n",
       "      <th>Nationality</th>\n",
       "      <th>Gender</th>\n",
       "      <th>Year Quarter</th>\n",
       "      <th>Salary</th>\n",
       "      <th>Currency</th>\n",
       "    </tr>\n",
       "  </thead>\n",
       "  <tbody>\n",
       "    <tr>\n",
       "      <th>60</th>\n",
       "      <td>Primary</td>\n",
       "      <td>NonSaudi</td>\n",
       "      <td>Female</td>\n",
       "      <td>2020 Q4</td>\n",
       "      <td>1331</td>\n",
       "      <td>SAR</td>\n",
       "    </tr>\n",
       "  </tbody>\n",
       "</table>\n",
       "</div>"
      ],
      "text/plain": [
       "   Degree Level Nationality  Gender Year Quarter  Salary Currency\n",
       "60      Primary    NonSaudi  Female      2020 Q4    1331      SAR"
      ]
     },
     "execution_count": 14,
     "metadata": {},
     "output_type": "execute_result"
    }
   ],
   "source": [
    "df[df['Salary'] == df['Salary'].min()]"
   ]
  },
  {
   "cell_type": "code",
   "execution_count": 15,
   "id": "a16a8bff",
   "metadata": {},
   "outputs": [
    {
     "data": {
      "text/plain": [
       "array([[<AxesSubplot:title={'center':'Salary'}>]], dtype=object)"
      ]
     },
     "execution_count": 15,
     "metadata": {},
     "output_type": "execute_result"
    },
    {
     "data": {
      "image/png": "[encoded data removed]",
      "text/plain": [
       "<Figure size 432x288 with 1 Axes>"
      ]
     },
     "metadata": {
      "needs_background": "light"
     },
     "output_type": "display_data"
    }
   ],
   "source": [
    "df.hist()"
   ]
  },
  {
   "cell_type": "markdown",
   "id": "3d517935",
   "metadata": {},
   "source": [
    "## Questions"
   ]
  },
  {
   "cell_type": "markdown",
   "id": "1b17b6ca",
   "metadata": {},
   "source": [
    "### Comparison of education and salary salaries"
   ]
  },
  {
   "cell_type": "code",
   "execution_count": 16,
   "id": "d2904123",
   "metadata": {},
   "outputs": [
    {
     "data": {
      "text/html": [
       "<div>\n",
       "<style scoped>\n",
       "    .dataframe tbody tr th:only-of-type {\n",
       "        vertical-align: middle;\n",
       "    }\n",
       "\n",
       "    .dataframe tbody tr th {\n",
       "        vertical-align: top;\n",
       "    }\n",
       "\n",
       "    .dataframe thead th {\n",
       "        text-align: right;\n",
       "    }\n",
       "</style>\n",
       "<table border=\"1\" class=\"dataframe\">\n",
       "  <thead>\n",
       "    <tr style=\"text-align: right;\">\n",
       "      <th></th>\n",
       "      <th>Degree Level</th>\n",
       "      <th>Salary</th>\n",
       "    </tr>\n",
       "  </thead>\n",
       "  <tbody>\n",
       "    <tr>\n",
       "      <th>0</th>\n",
       "      <td>Bachelor</td>\n",
       "      <td>9535.555556</td>\n",
       "    </tr>\n",
       "    <tr>\n",
       "      <th>1</th>\n",
       "      <td>Diploma</td>\n",
       "      <td>7036.694444</td>\n",
       "    </tr>\n",
       "    <tr>\n",
       "      <th>2</th>\n",
       "      <td>Doctorate</td>\n",
       "      <td>19835.458333</td>\n",
       "    </tr>\n",
       "    <tr>\n",
       "      <th>3</th>\n",
       "      <td>Intermediate</td>\n",
       "      <td>4101.527778</td>\n",
       "    </tr>\n",
       "    <tr>\n",
       "      <th>4</th>\n",
       "      <td>Master Degree</td>\n",
       "      <td>13797.875000</td>\n",
       "    </tr>\n",
       "    <tr>\n",
       "      <th>5</th>\n",
       "      <td>Primary</td>\n",
       "      <td>3569.041667</td>\n",
       "    </tr>\n",
       "    <tr>\n",
       "      <th>6</th>\n",
       "      <td>Secondary</td>\n",
       "      <td>4774.069444</td>\n",
       "    </tr>\n",
       "  </tbody>\n",
       "</table>\n",
       "</div>"
      ],
      "text/plain": [
       "    Degree Level        Salary\n",
       "0       Bachelor   9535.555556\n",
       "1        Diploma   7036.694444\n",
       "2      Doctorate  19835.458333\n",
       "3   Intermediate   4101.527778\n",
       "4  Master Degree  13797.875000\n",
       "5        Primary   3569.041667\n",
       "6      Secondary   4774.069444"
      ]
     },
     "execution_count": 16,
     "metadata": {},
     "output_type": "execute_result"
    }
   ],
   "source": [
    "x=df.groupby('Degree Level')['Salary'].mean()\n",
    "q1=pd.DataFrame(x)\n",
    "q1.reset_index(inplace=True)\n",
    "q1"
   ]
  },
  {
   "cell_type": "code",
   "execution_count": 17,
   "id": "b719859c",
   "metadata": {},
   "outputs": [
    {
     "data": {
      "text/plain": [
       "Text(0, 0.5, 'Salary')"
      ]
     },
     "execution_count": 17,
     "metadata": {},
     "output_type": "execute_result"
    },
    {
     "data": {
      "image/png": "[encoded data removed]",
      "text/plain": [
       "<Figure size 720x288 with 1 Axes>"
      ]
     },
     "metadata": {
      "needs_background": "light"
     },
     "output_type": "display_data"
    }
   ],
   "source": [
    "plt.figure(figsize=(10,4))\n",
    "plt.bar(q1['Degree Level'],q1['Salary'])\n",
    "plt.title(\"Comparison of education and salary salaries\")\n",
    "plt.xlabel(\"Degree Level\")\n",
    "plt.ylabel(\"Salary\")"
   ]
  },
  {
   "cell_type": "markdown",
   "id": "92e2185f",
   "metadata": {},
   "source": [
    "### Comparison of type and salary"
   ]
  },
  {
   "cell_type": "code",
   "execution_count": 18,
   "id": "9b06ebaa",
   "metadata": {},
   "outputs": [
    {
     "data": {
      "text/html": [
       "<div>\n",
       "<style scoped>\n",
       "    .dataframe tbody tr th:only-of-type {\n",
       "        vertical-align: middle;\n",
       "    }\n",
       "\n",
       "    .dataframe tbody tr th {\n",
       "        vertical-align: top;\n",
       "    }\n",
       "\n",
       "    .dataframe thead th {\n",
       "        text-align: right;\n",
       "    }\n",
       "</style>\n",
       "<table border=\"1\" class=\"dataframe\">\n",
       "  <thead>\n",
       "    <tr style=\"text-align: right;\">\n",
       "      <th></th>\n",
       "      <th>Gender</th>\n",
       "      <th>Salary</th>\n",
       "    </tr>\n",
       "  </thead>\n",
       "  <tbody>\n",
       "    <tr>\n",
       "      <th>0</th>\n",
       "      <td>Female</td>\n",
       "      <td>7664.559524</td>\n",
       "    </tr>\n",
       "    <tr>\n",
       "      <th>1</th>\n",
       "      <td>Male</td>\n",
       "      <td>10235.503968</td>\n",
       "    </tr>\n",
       "  </tbody>\n",
       "</table>\n",
       "</div>"
      ],
      "text/plain": [
       "   Gender        Salary\n",
       "0  Female   7664.559524\n",
       "1    Male  10235.503968"
      ]
     },
     "execution_count": 18,
     "metadata": {},
     "output_type": "execute_result"
    }
   ],
   "source": [
    "x=df.groupby('Gender')['Salary'].mean()\n",
    "q2=pd.DataFrame(x)\n",
    "q2.reset_index(inplace=True)\n",
    "q2"
   ]
  },
  {
   "cell_type": "code",
   "execution_count": 19,
   "id": "91c705b2",
   "metadata": {},
   "outputs": [
    {
     "data": {
      "text/plain": [
       "([<matplotlib.patches.Wedge at 0x1e403f0c040>,\n",
       "  <matplotlib.patches.Wedge at 0x1e403f0c760>],\n",
       " [Text(0.2460707982302205, 1.0721236692930263, 'Female'),\n",
       "  Text(-0.24607059747129198, -1.0721237153706291, 'Male')],\n",
       " [Text(0.13422043539830206, 0.584794728705287, '42.8%'),\n",
       "  Text(-0.13422032589343197, -0.5847947538385249, '57.2%')])"
      ]
     },
     "execution_count": 19,
     "metadata": {},
     "output_type": "execute_result"
    },
    {
     "data": {
      "image/png": "[encoded data removed]",
      "text/plain": [
       "<Figure size 432x288 with 1 Axes>"
      ]
     },
     "metadata": {},
     "output_type": "display_data"
    }
   ],
   "source": [
    "plt.pie(q2['Salary'],labels=q2['Gender'],autopct=\"%1.1f%%\")"
   ]
  },
  {
   "cell_type": "markdown",
   "id": "1d6d8515",
   "metadata": {},
   "source": [
    "###  Comparison of nationality and salary"
   ]
  },
  {
   "cell_type": "code",
   "execution_count": 20,
   "id": "32f99f44",
   "metadata": {},
   "outputs": [
    {
     "data": {
      "text/html": [
       "<div>\n",
       "<style scoped>\n",
       "    .dataframe tbody tr th:only-of-type {\n",
       "        vertical-align: middle;\n",
       "    }\n",
       "\n",
       "    .dataframe tbody tr th {\n",
       "        vertical-align: top;\n",
       "    }\n",
       "\n",
       "    .dataframe thead th {\n",
       "        text-align: right;\n",
       "    }\n",
       "</style>\n",
       "<table border=\"1\" class=\"dataframe\">\n",
       "  <thead>\n",
       "    <tr style=\"text-align: right;\">\n",
       "      <th></th>\n",
       "      <th>Nationality</th>\n",
       "      <th>Salary</th>\n",
       "    </tr>\n",
       "  </thead>\n",
       "  <tbody>\n",
       "    <tr>\n",
       "      <th>0</th>\n",
       "      <td>NonSaudi</td>\n",
       "      <td>6663.587302</td>\n",
       "    </tr>\n",
       "    <tr>\n",
       "      <th>1</th>\n",
       "      <td>Saudi</td>\n",
       "      <td>11236.476190</td>\n",
       "    </tr>\n",
       "  </tbody>\n",
       "</table>\n",
       "</div>"
      ],
      "text/plain": [
       "  Nationality        Salary\n",
       "0    NonSaudi   6663.587302\n",
       "1       Saudi  11236.476190"
      ]
     },
     "execution_count": 20,
     "metadata": {},
     "output_type": "execute_result"
    }
   ],
   "source": [
    "x=df.groupby('Nationality')['Salary'].mean()\n",
    "q3=pd.DataFrame(x)\n",
    "q3.reset_index(inplace=True)\n",
    "q3"
   ]
  },
  {
   "cell_type": "code",
   "execution_count": 21,
   "id": "1f0eae1a",
   "metadata": {
    "scrolled": true
   },
   "outputs": [
    {
     "data": {
      "text/plain": [
       "([<matplotlib.patches.Wedge at 0x1e403f58940>,\n",
       "  <matplotlib.patches.Wedge at 0x1e403f680a0>],\n",
       " [Text(0.429664616678769, 1.0126145945888232, 'NonSaudi'),\n",
       "  Text(-0.4296646166787691, -1.0126145945888232, 'Saudi')],\n",
       " [Text(0.2343625181884194, 0.5523352334120853, '37.2%'),\n",
       "  Text(-0.23436251818841947, -0.5523352334120852, '62.8%')])"
      ]
     },
     "execution_count": 21,
     "metadata": {},
     "output_type": "execute_result"
    },
    {
     "data": {
      "image/png": "[encoded data removed]",
      "text/plain": [
       "<Figure size 432x288 with 1 Axes>"
      ]
     },
     "metadata": {},
     "output_type": "display_data"
    }
   ],
   "source": [
    "plt.pie(q3['Salary'],labels=q3['Nationality'],autopct=\"%1.1f%%\")"
   ]
  },
  {
   "cell_type": "markdown",
   "id": "21868672",
   "metadata": {},
   "source": [
    "### compariosn between salries by quarter year"
   ]
  },
  {
   "cell_type": "code",
   "execution_count": 22,
   "id": "1d555b95",
   "metadata": {},
   "outputs": [
    {
     "data": {
      "text/html": [
       "<div>\n",
       "<style scoped>\n",
       "    .dataframe tbody tr th:only-of-type {\n",
       "        vertical-align: middle;\n",
       "    }\n",
       "\n",
       "    .dataframe tbody tr th {\n",
       "        vertical-align: top;\n",
       "    }\n",
       "\n",
       "    .dataframe thead th {\n",
       "        text-align: right;\n",
       "    }\n",
       "</style>\n",
       "<table border=\"1\" class=\"dataframe\">\n",
       "  <thead>\n",
       "    <tr style=\"text-align: right;\">\n",
       "      <th></th>\n",
       "      <th>Year Quarter</th>\n",
       "      <th>Salary</th>\n",
       "    </tr>\n",
       "  </thead>\n",
       "  <tbody>\n",
       "    <tr>\n",
       "      <th>0</th>\n",
       "      <td>2017 Q1</td>\n",
       "      <td>8777.821429</td>\n",
       "    </tr>\n",
       "    <tr>\n",
       "      <th>1</th>\n",
       "      <td>2017 Q2</td>\n",
       "      <td>8644.857143</td>\n",
       "    </tr>\n",
       "    <tr>\n",
       "      <th>2</th>\n",
       "      <td>2017 Q3</td>\n",
       "      <td>8622.250000</td>\n",
       "    </tr>\n",
       "    <tr>\n",
       "      <th>3</th>\n",
       "      <td>2017 Q4</td>\n",
       "      <td>8427.678571</td>\n",
       "    </tr>\n",
       "    <tr>\n",
       "      <th>4</th>\n",
       "      <td>2018 Q1</td>\n",
       "      <td>8551.678571</td>\n",
       "    </tr>\n",
       "    <tr>\n",
       "      <th>5</th>\n",
       "      <td>2018 Q2</td>\n",
       "      <td>9013.642857</td>\n",
       "    </tr>\n",
       "    <tr>\n",
       "      <th>6</th>\n",
       "      <td>2018 Q3</td>\n",
       "      <td>9062.928571</td>\n",
       "    </tr>\n",
       "    <tr>\n",
       "      <th>7</th>\n",
       "      <td>2018 Q4</td>\n",
       "      <td>8576.964286</td>\n",
       "    </tr>\n",
       "    <tr>\n",
       "      <th>8</th>\n",
       "      <td>2019 Q1</td>\n",
       "      <td>8865.107143</td>\n",
       "    </tr>\n",
       "    <tr>\n",
       "      <th>9</th>\n",
       "      <td>2019 Q2</td>\n",
       "      <td>9189.892857</td>\n",
       "    </tr>\n",
       "    <tr>\n",
       "      <th>10</th>\n",
       "      <td>2019 Q3</td>\n",
       "      <td>9106.571429</td>\n",
       "    </tr>\n",
       "    <tr>\n",
       "      <th>11</th>\n",
       "      <td>2019 Q4</td>\n",
       "      <td>9294.571429</td>\n",
       "    </tr>\n",
       "    <tr>\n",
       "      <th>12</th>\n",
       "      <td>2020 Q1</td>\n",
       "      <td>9443.642857</td>\n",
       "    </tr>\n",
       "    <tr>\n",
       "      <th>13</th>\n",
       "      <td>2020 Q2</td>\n",
       "      <td>8662.214286</td>\n",
       "    </tr>\n",
       "    <tr>\n",
       "      <th>14</th>\n",
       "      <td>2020 Q3</td>\n",
       "      <td>8609.214286</td>\n",
       "    </tr>\n",
       "    <tr>\n",
       "      <th>15</th>\n",
       "      <td>2020 Q4</td>\n",
       "      <td>9103.142857</td>\n",
       "    </tr>\n",
       "    <tr>\n",
       "      <th>16</th>\n",
       "      <td>2021 Q1</td>\n",
       "      <td>9550.607143</td>\n",
       "    </tr>\n",
       "    <tr>\n",
       "      <th>17</th>\n",
       "      <td>2021 Q2</td>\n",
       "      <td>9597.785714</td>\n",
       "    </tr>\n",
       "  </tbody>\n",
       "</table>\n",
       "</div>"
      ],
      "text/plain": [
       "   Year Quarter       Salary\n",
       "0       2017 Q1  8777.821429\n",
       "1       2017 Q2  8644.857143\n",
       "2       2017 Q3  8622.250000\n",
       "3       2017 Q4  8427.678571\n",
       "4       2018 Q1  8551.678571\n",
       "5       2018 Q2  9013.642857\n",
       "6       2018 Q3  9062.928571\n",
       "7       2018 Q4  8576.964286\n",
       "8       2019 Q1  8865.107143\n",
       "9       2019 Q2  9189.892857\n",
       "10      2019 Q3  9106.571429\n",
       "11      2019 Q4  9294.571429\n",
       "12      2020 Q1  9443.642857\n",
       "13      2020 Q2  8662.214286\n",
       "14      2020 Q3  8609.214286\n",
       "15      2020 Q4  9103.142857\n",
       "16      2021 Q1  9550.607143\n",
       "17      2021 Q2  9597.785714"
      ]
     },
     "execution_count": 22,
     "metadata": {},
     "output_type": "execute_result"
    }
   ],
   "source": [
    "x=df.groupby(['Year Quarter'])['Salary'].mean()\n",
    "q4=pd.DataFrame(x)\n",
    "q4.reset_index(inplace=True)\n",
    "q4"
   ]
  },
  {
   "cell_type": "code",
   "execution_count": 23,
   "id": "0049d222",
   "metadata": {},
   "outputs": [
    {
     "data": {
      "text/plain": [
       "<matplotlib.collections.PathCollection at 0x1e403fad5b0>"
      ]
     },
     "execution_count": 23,
     "metadata": {},
     "output_type": "execute_result"
    },
    {
     "data": {
      "image/png": "[encoded data removed]",
      "text/plain": [
       "<Figure size 1152x288 with 1 Axes>"
      ]
     },
     "metadata": {
      "needs_background": "light"
     },
     "output_type": "display_data"
    }
   ],
   "source": [
    "plt.figure(figsize=(16,4))\n",
    "plt.scatter(q4['Year Quarter'],q4['Salary'])"
   ]
  },
  {
   "cell_type": "markdown",
   "id": "39fdde19",
   "metadata": {},
   "source": [
    "## Conclusion"
   ]
  },
  {
   "cell_type": "markdown",
   "id": "36ff0e79",
   "metadata": {},
   "source": [
    "<span>Saudi salaries are more than others</span><br>\n",
    "<span>Men's salaries are more than women's</span><br>\n",
    "<span>The higher a person's rank is in education, the higher his rank will certainly increase</span><br>\n",
    "<span>PhD is the highest education salary in the price</span>"
   ]
  }
 ],
 "metadata": {
  "kernelspec": {
   "display_name": "Python 3 (ipykernel)",
   "language": "python",
   "name": "python3"
  },
  "language_info": {
   "codemirror_mode": {
    "name": "ipython",
    "version": 3
   },
   "file_extension": ".py",
   "mimetype": "text/x-python",
   "name": "python",
   "nbconvert_exporter": "python",
   "pygments_lexer": "ipython3",
   "version": "3.9.0"
  }
 },
 "nbformat": 4,
 "nbformat_minor": 5
}
